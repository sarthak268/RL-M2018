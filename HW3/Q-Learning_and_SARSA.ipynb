{
 "cells": [
  {
   "cell_type": "code",
   "execution_count": 2,
   "metadata": {},
   "outputs": [],
   "source": [
    "import numpy as np\n",
    "import matplotlib.pyplot as plt\n",
    "import random\n",
    "import math\n",
    "%matplotlib inline"
   ]
  },
  {
   "cell_type": "code",
   "execution_count": 3,
   "metadata": {},
   "outputs": [],
   "source": [
    "num_states = 48\n",
    "num_actions = 4\n",
    "actions = ['left', 'right', 'up', 'down']\n",
    "epsilon = 0.1\n",
    "alpha = 0.5\n",
    "start = [0, 0]\n",
    "goal = [11, 0]\n",
    "\n",
    "def take_step(state, action):\n",
    "    reward = -1\n",
    "    \n",
    "    if (action == 'left'):\n",
    "        new_state = [state[0]-1, state[1]]\n",
    "    elif (action == 'right'):\n",
    "        new_state = [state[0]+1, state[1]]\n",
    "    elif (action == 'up'):\n",
    "        new_state = [state[0], state[1]+1]\n",
    "    elif (action == 'down'):\n",
    "        new_state = [state[0], state[1]-1]\n",
    "    \n",
    "    if (new_state[0] < 0 or new_state[0] > 11 or new_state[1] < 0 or new_state[1] > 3):\n",
    "        new_state = state\n",
    "    if (check_cliff(new_state)):\n",
    "        reward = -100\n",
    "        new_state = start\n",
    "    \n",
    "    return new_state, reward\n",
    "    \n",
    "def check_cliff(state):\n",
    "    cliff = False\n",
    "    if (state[1] == 0):\n",
    "        if (state[0] > 0 and state[0] < 11):\n",
    "            cliff = True\n",
    "    return cliff\n",
    "    \n",
    "def check_terminal(state):\n",
    "    if (state == goal):\n",
    "        return True\n",
    "    else:\n",
    "        return False\n",
    "    \n",
    "def take_epsilon_greeedy_step(state, q_values):\n",
    "    state_ = make_1d(state)\n",
    "    if (random.uniform(0, 1) > epsilon):\n",
    "        action_ind = np.argmax(q_values[state_, :])\n",
    "        action = actions[action_ind]\n",
    "    else:\n",
    "        action = random.choice(actions)\n",
    "    return action\n",
    "\n",
    "def make_1d(state):\n",
    "    return ((state[1] * 12) + state[0])"
   ]
  },
  {
   "cell_type": "code",
   "execution_count": 4,
   "metadata": {},
   "outputs": [],
   "source": [
    "def sarsa(num_episodes):\n",
    "    q_sa = np.zeros((num_states, num_actions))\n",
    "    avg_reward = np.zeros((num_episodes))\n",
    "    \n",
    "    for i in range(num_episodes):\n",
    "        current_state = start\n",
    "        action = take_epsilon_greeedy_step(current_state, q_sa)\n",
    "            \n",
    "        while(not check_terminal(current_state)):\n",
    "            new_state, reward = take_step(current_state, action)\n",
    "            avg_reward[i] += reward\n",
    "            new_action = take_epsilon_greeedy_step(new_state, q_sa)\n",
    "            q_sa[make_1d(current_state), actions.index(action)] += alpha * (reward + q_sa[make_1d(new_state), actions.index(new_action)] - q_sa[make_1d(current_state), actions.index(action)])\n",
    "            current_state = new_state\n",
    "            action = new_action\n",
    "        avg_reward[i] = max(avg_reward[i], -100)\n",
    "        \n",
    "    return avg_reward"
   ]
  },
  {
   "cell_type": "code",
   "execution_count": 5,
   "metadata": {},
   "outputs": [],
   "source": [
    "def q_learning(num_episodes):\n",
    "    q_sa = np.zeros((num_states, num_actions))\n",
    "    avg_reward = np.zeros((num_episodes))\n",
    "    \n",
    "    for i in range(num_episodes):\n",
    "        current_state = start\n",
    "            \n",
    "        while(not check_terminal(current_state)):\n",
    "            action = take_epsilon_greeedy_step(current_state, q_sa)\n",
    "            new_state, reward = take_step(current_state, action)\n",
    "            avg_reward[i] += reward\n",
    "            new_action_ind = np.argmax(q_sa[make_1d(new_state)])\n",
    "            new_action = actions[new_action_ind]\n",
    "            q_sa[make_1d(current_state), actions.index(action)] += alpha * (reward + q_sa[make_1d(new_state), actions.index(new_action)] - q_sa[make_1d(current_state), actions.index(action)])\n",
    "            current_state = new_state\n",
    "        avg_reward[i] = max(avg_reward[i], -100)\n",
    "        \n",
    "    return avg_reward"
   ]
  },
  {
   "cell_type": "code",
   "execution_count": 6,
   "metadata": {},
   "outputs": [
    {
     "data": {
      "image/png": "[encoded data removed]",
      "text/plain": [
       "<Figure size 432x288 with 1 Axes>"
      ]
     },
     "metadata": {
      "needs_background": "light"
     },
     "output_type": "display_data"
    }
   ],
   "source": [
    "runs = 100\n",
    "\n",
    "sarsa_rewards = []\n",
    "for i in range(runs):\n",
    "    average_rewards = sarsa(500)\n",
    "    sarsa_rewards.append(average_rewards)\n",
    "sarsa_rewards = np.asarray(sarsa_rewards)\n",
    "sarsa_final = np.sum(sarsa_rewards, axis=0) / runs\n",
    "\n",
    "qlearning_rewards = []\n",
    "for i in range(runs):\n",
    "    average_rewards = q_learning(500)\n",
    "    qlearning_rewards.append(average_rewards)\n",
    "qlearning_rewards = np.asarray(qlearning_rewards)\n",
    "qlearning_final = np.sum(qlearning_rewards, axis=0) / runs\n",
    "\n",
    "plt.plot(sarsa_final, label='SARSA')\n",
    "plt.plot(qlearning_final, label='Q Learning')\n",
    "plt.legend()\n",
    "plt.show()"
   ]
  },
  {
   "cell_type": "code",
   "execution_count": null,
   "metadata": {},
   "outputs": [],
   "source": []
  }
 ],
 "metadata": {
  "kernelspec": {
   "display_name": "Python 3",
   "language": "python",
   "name": "python3"
  },
  "language_info": {
   "codemirror_mode": {
    "name": "ipython",
    "version": 3
   },
   "file_extension": ".py",
   "mimetype": "text/x-python",
   "name": "python",
   "nbconvert_exporter": "python",
   "pygments_lexer": "ipython3",
   "version": "3.7.3"
  }
 },
 "nbformat": 4,
 "nbformat_minor": 2
}
